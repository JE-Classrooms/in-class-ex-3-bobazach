{
 "cells": [
  {
   "cell_type": "markdown",
   "metadata": {},
   "source": [
    "# In-class exercise 3\n",
    "\n",
    "**Author:**"
   ]
  },
  {
   "cell_type": "markdown",
   "metadata": {},
   "source": [
    "**Exercises:**\n",
    "\n",
    "1. Import the ```fifa23_players.csv``` table using Pandas\n",
    "\n",
    "2. Print the first first rows of all the columns in the table\n",
    "\n",
    "3. Print all the columns in the table using the method ```column```\n",
    "\n",
    "4. Check the data type for the columns in your data table\n",
    "\n",
    "5. Provide summary statistics for all the numerical variables in the table. What are the average age and the average potential for the players in the data table?\n",
    "\n",
    "6. What is the last name for the player with the highest potential in Fifa 23? Print the table you used to get the information."
   ]
  },
  {
   "cell_type": "code",
   "execution_count": 2,
   "metadata": {},
   "outputs": [
    {
     "data": {
      "text/html": [
       "<div>\n",
       "<style scoped>\n",
       "    .dataframe tbody tr th:only-of-type {\n",
       "        vertical-align: middle;\n",
       "    }\n",
       "\n",
       "    .dataframe tbody tr th {\n",
       "        vertical-align: top;\n",
       "    }\n",
       "\n",
       "    .dataframe thead th {\n",
       "        text-align: right;\n",
       "    }\n",
       "</style>\n",
       "<table border=\"1\" class=\"dataframe\">\n",
       "  <thead>\n",
       "    <tr style=\"text-align: right;\">\n",
       "      <th></th>\n",
       "      <th>Known As</th>\n",
       "      <th>Full Name</th>\n",
       "      <th>Overall</th>\n",
       "      <th>Potential</th>\n",
       "      <th>Value(in Euro)</th>\n",
       "      <th>Positions Played</th>\n",
       "      <th>Best Position</th>\n",
       "      <th>Nationality</th>\n",
       "      <th>Image Link</th>\n",
       "      <th>Age</th>\n",
       "      <th>...</th>\n",
       "      <th>LM Rating</th>\n",
       "      <th>CM Rating</th>\n",
       "      <th>RM Rating</th>\n",
       "      <th>LWB Rating</th>\n",
       "      <th>CDM Rating</th>\n",
       "      <th>RWB Rating</th>\n",
       "      <th>LB Rating</th>\n",
       "      <th>CB Rating</th>\n",
       "      <th>RB Rating</th>\n",
       "      <th>GK Rating</th>\n",
       "    </tr>\n",
       "  </thead>\n",
       "  <tbody>\n",
       "    <tr>\n",
       "      <th>0</th>\n",
       "      <td>L. Messi</td>\n",
       "      <td>Lionel Messi</td>\n",
       "      <td>91</td>\n",
       "      <td>91</td>\n",
       "      <td>54000000</td>\n",
       "      <td>RW</td>\n",
       "      <td>CAM</td>\n",
       "      <td>Argentina</td>\n",
       "      <td>https://cdn.sofifa.net/players/158/023/23_60.png</td>\n",
       "      <td>35</td>\n",
       "      <td>...</td>\n",
       "      <td>91</td>\n",
       "      <td>88</td>\n",
       "      <td>91</td>\n",
       "      <td>67</td>\n",
       "      <td>66</td>\n",
       "      <td>67</td>\n",
       "      <td>62</td>\n",
       "      <td>53</td>\n",
       "      <td>62</td>\n",
       "      <td>22</td>\n",
       "    </tr>\n",
       "  </tbody>\n",
       "</table>\n",
       "<p>1 rows × 89 columns</p>\n",
       "</div>"
      ],
      "text/plain": [
       "   Known As     Full Name  Overall  Potential  Value(in Euro)  \\\n",
       "0  L. Messi  Lionel Messi       91         91        54000000   \n",
       "\n",
       "  Positions Played Best Position Nationality  \\\n",
       "0               RW           CAM   Argentina   \n",
       "\n",
       "                                         Image Link  Age  ...  LM Rating  \\\n",
       "0  https://cdn.sofifa.net/players/158/023/23_60.png   35  ...         91   \n",
       "\n",
       "   CM Rating  RM Rating  LWB Rating CDM Rating  RWB Rating  LB Rating  \\\n",
       "0         88         91          67         66          67         62   \n",
       "\n",
       "  CB Rating RB Rating GK Rating  \n",
       "0        53        62        22  \n",
       "\n",
       "[1 rows x 89 columns]"
      ]
     },
     "execution_count": 2,
     "metadata": {},
     "output_type": "execute_result"
    }
   ],
   "source": [
    "import pandas as pd\n",
    "\n",
    "fifa = pd.read_csv('fifa23_players.csv')"
   ]
  },
  {
   "cell_type": "code",
   "execution_count": 3,
   "metadata": {},
   "outputs": [
    {
     "data": {
      "text/html": [
       "<div>\n",
       "<style scoped>\n",
       "    .dataframe tbody tr th:only-of-type {\n",
       "        vertical-align: middle;\n",
       "    }\n",
       "\n",
       "    .dataframe tbody tr th {\n",
       "        vertical-align: top;\n",
       "    }\n",
       "\n",
       "    .dataframe thead th {\n",
       "        text-align: right;\n",
       "    }\n",
       "</style>\n",
       "<table border=\"1\" class=\"dataframe\">\n",
       "  <thead>\n",
       "    <tr style=\"text-align: right;\">\n",
       "      <th></th>\n",
       "      <th>Known As</th>\n",
       "      <th>Full Name</th>\n",
       "      <th>Overall</th>\n",
       "      <th>Potential</th>\n",
       "      <th>Value(in Euro)</th>\n",
       "      <th>Positions Played</th>\n",
       "      <th>Best Position</th>\n",
       "      <th>Nationality</th>\n",
       "      <th>Image Link</th>\n",
       "      <th>Age</th>\n",
       "      <th>...</th>\n",
       "      <th>LM Rating</th>\n",
       "      <th>CM Rating</th>\n",
       "      <th>RM Rating</th>\n",
       "      <th>LWB Rating</th>\n",
       "      <th>CDM Rating</th>\n",
       "      <th>RWB Rating</th>\n",
       "      <th>LB Rating</th>\n",
       "      <th>CB Rating</th>\n",
       "      <th>RB Rating</th>\n",
       "      <th>GK Rating</th>\n",
       "    </tr>\n",
       "  </thead>\n",
       "  <tbody>\n",
       "    <tr>\n",
       "      <th>0</th>\n",
       "      <td>L. Messi</td>\n",
       "      <td>Lionel Messi</td>\n",
       "      <td>91</td>\n",
       "      <td>91</td>\n",
       "      <td>54000000</td>\n",
       "      <td>RW</td>\n",
       "      <td>CAM</td>\n",
       "      <td>Argentina</td>\n",
       "      <td>https://cdn.sofifa.net/players/158/023/23_60.png</td>\n",
       "      <td>35</td>\n",
       "      <td>...</td>\n",
       "      <td>91</td>\n",
       "      <td>88</td>\n",
       "      <td>91</td>\n",
       "      <td>67</td>\n",
       "      <td>66</td>\n",
       "      <td>67</td>\n",
       "      <td>62</td>\n",
       "      <td>53</td>\n",
       "      <td>62</td>\n",
       "      <td>22</td>\n",
       "    </tr>\n",
       "  </tbody>\n",
       "</table>\n",
       "<p>1 rows × 89 columns</p>\n",
       "</div>"
      ],
      "text/plain": [
       "   Known As     Full Name  Overall  Potential  Value(in Euro)  \\\n",
       "0  L. Messi  Lionel Messi       91         91        54000000   \n",
       "\n",
       "  Positions Played Best Position Nationality  \\\n",
       "0               RW           CAM   Argentina   \n",
       "\n",
       "                                         Image Link  Age  ...  LM Rating  \\\n",
       "0  https://cdn.sofifa.net/players/158/023/23_60.png   35  ...         91   \n",
       "\n",
       "   CM Rating  RM Rating  LWB Rating CDM Rating  RWB Rating  LB Rating  \\\n",
       "0         88         91          67         66          67         62   \n",
       "\n",
       "  CB Rating RB Rating GK Rating  \n",
       "0        53        62        22  \n",
       "\n",
       "[1 rows x 89 columns]"
      ]
     },
     "execution_count": 3,
     "metadata": {},
     "output_type": "execute_result"
    }
   ],
   "source": [
    "fifa.head(1)"
   ]
  },
  {
   "cell_type": "code",
   "execution_count": 12,
   "metadata": {},
   "outputs": [
    {
     "name": "stdout",
     "output_type": "stream",
     "text": [
      "Index(['Known As', 'Full Name', 'Overall', 'Potential', 'Value(in Euro)',\n",
      "       'Positions Played', 'Best Position', 'Nationality', 'Image Link', 'Age',\n",
      "       'Height(in cm)', 'Weight(in kg)', 'TotalStats', 'BaseStats',\n",
      "       'Club Name', 'Wage(in Euro)', 'Release Clause', 'Club Position',\n",
      "       'Contract Until', 'Club Jersey Number', 'Joined On', 'On Loan',\n",
      "       'Preferred Foot', 'Weak Foot Rating', 'Skill Moves',\n",
      "       'International Reputation', 'National Team Name',\n",
      "       'National Team Image Link', 'National Team Position',\n",
      "       'National Team Jersey Number', 'Attacking Work Rate',\n",
      "       'Defensive Work Rate', 'Pace Total', 'Shooting Total', 'Passing Total',\n",
      "       'Dribbling Total', 'Defending Total', 'Physicality Total', 'Crossing',\n",
      "       'Finishing', 'Heading Accuracy', 'Short Passing', 'Volleys',\n",
      "       'Dribbling', 'Curve', 'Freekick Accuracy', 'LongPassing', 'BallControl',\n",
      "       'Acceleration', 'Sprint Speed', 'Agility', 'Reactions', 'Balance',\n",
      "       'Shot Power', 'Jumping', 'Stamina', 'Strength', 'Long Shots',\n",
      "       'Aggression', 'Interceptions', 'Positioning', 'Vision', 'Penalties',\n",
      "       'Composure', 'Marking', 'Standing Tackle', 'Sliding Tackle',\n",
      "       'Goalkeeper Diving', 'Goalkeeper Handling', ' GoalkeeperKicking',\n",
      "       'Goalkeeper Positioning', 'Goalkeeper Reflexes', 'ST Rating',\n",
      "       'LW Rating', 'LF Rating', 'CF Rating', 'RF Rating', 'RW Rating',\n",
      "       'CAM Rating', 'LM Rating', 'CM Rating', 'RM Rating', 'LWB Rating',\n",
      "       'CDM Rating', 'RWB Rating', 'LB Rating', 'CB Rating', 'RB Rating',\n",
      "       'GK Rating'],\n",
      "      dtype='object')\n"
     ]
    }
   ],
   "source": [
    "print(fifa.columns)"
   ]
  },
  {
   "cell_type": "code",
   "execution_count": 34,
   "metadata": {},
   "outputs": [
    {
     "data": {
      "text/plain": [
       "Known As          object\n",
       "Full Name         object\n",
       "Overall            int64\n",
       "Potential          int64\n",
       "Value(in Euro)     int64\n",
       "                   ...  \n",
       "RWB Rating         int64\n",
       "LB Rating          int64\n",
       "CB Rating          int64\n",
       "RB Rating          int64\n",
       "GK Rating          int64\n",
       "Length: 89, dtype: object"
      ]
     },
     "execution_count": 34,
     "metadata": {},
     "output_type": "execute_result"
    }
   ],
   "source": [
    "fifa.dtypes"
   ]
  },
  {
   "cell_type": "code",
   "execution_count": 33,
   "metadata": {},
   "outputs": [
    {
     "name": "stdout",
     "output_type": "stream",
     "text": [
      "Average Age: 25.240412 Average Potential: 71.016668\n"
     ]
    }
   ],
   "source": [
    "fifa.describe()\n",
    "print(\"Average Age: 25.240412\", \"Average Potential: 71.016668\")"
   ]
  },
  {
   "cell_type": "code",
   "execution_count": 30,
   "metadata": {},
   "outputs": [
    {
     "name": "stdout",
     "output_type": "stream",
     "text": [
      "           Known As                         Full Name  Overall  Potential  \\\n",
      "4         K. Mbappé                     Kylian Mbappé       91         95   \n",
      "21       E. Haaland                    Erling Haaland       88         94   \n",
      "82            Pedri              Pedro González López       85         93   \n",
      "83         P. Foden                        Phil Foden       85         92   \n",
      "63     Vinícius Jr.  Vinícius José de Oliveira Júnior       86         92   \n",
      "...             ...                               ...      ...        ...   \n",
      "18407   Wang Hanlin                       Hanlin Wang       50         50   \n",
      "18538      N. Rabha                       Nabin Rabha       47         50   \n",
      "18454  S. Abdusalam                   Sabit Abdusalam       49         49   \n",
      "18466     Huo Liang                         Liang Huo       49         49   \n",
      "18498      Ning Hao                          Hao Ning       48         48   \n",
      "\n",
      "       Value(in Euro) Positions Played Best Position Nationality  \\\n",
      "4           190500000            ST,LW            ST      France   \n",
      "21          148000000               ST            ST      Norway   \n",
      "82          116000000               CM            CM       Spain   \n",
      "83          109500000        LW,CF,CAM           CAM     England   \n",
      "63          109000000               LW            LW      Brazil   \n",
      "...               ...              ...           ...         ...   \n",
      "18407           30000              CDM           CDM    China PR   \n",
      "18538           60000               LB            LB       India   \n",
      "18454           45000               CM            ST    China PR   \n",
      "18466           30000               RB            RB    China PR   \n",
      "18498           15000               ST           CAM    China PR   \n",
      "\n",
      "                                             Image Link  Age  ...  LM Rating  \\\n",
      "4      https://cdn.sofifa.net/players/231/747/23_60.png   23  ...         92   \n",
      "21     https://cdn.sofifa.net/players/239/085/23_60.png   21  ...         80   \n",
      "82     https://cdn.sofifa.net/players/251/854/23_60.png   19  ...         84   \n",
      "83     https://cdn.sofifa.net/players/237/692/23_60.png   22  ...         87   \n",
      "63     https://cdn.sofifa.net/players/238/794/23_60.png   21  ...         86   \n",
      "...                                                 ...  ...  ...        ...   \n",
      "18407  https://cdn.sofifa.net/players/269/482/23_60.png   32  ...         48   \n",
      "18538  https://cdn.sofifa.net/players/261/424/23_60.png   25  ...         44   \n",
      "18454  https://cdn.sofifa.net/players/261/904/23_60.png   28  ...         49   \n",
      "18466  https://cdn.sofifa.net/players/269/519/23_60.png   32  ...         41   \n",
      "18498  https://cdn.sofifa.net/players/269/578/23_60.png   37  ...         48   \n",
      "\n",
      "       CM Rating  RM Rating  LWB Rating CDM Rating  RWB Rating  LB Rating  \\\n",
      "4             84         92          70         66          70         66   \n",
      "21            76         80          65         67          65         64   \n",
      "82            86         84          79         80          79         77   \n",
      "83            85         87          75         74          75         72   \n",
      "63            77         86          63         58          63         58   \n",
      "...          ...        ...         ...        ...         ...        ...   \n",
      "18407         49         48          50         50          50         50   \n",
      "18538         40         44          46         43          46         47   \n",
      "18454         49         49          49         47          49         49   \n",
      "18466         37         41          47         43          47         49   \n",
      "18498         48         48          47         47          47         46   \n",
      "\n",
      "      CB Rating RB Rating GK Rating  \n",
      "4            57        66        21  \n",
      "21           65        64        22  \n",
      "82           72        77        19  \n",
      "83           62        72        22  \n",
      "63           47        58        17  \n",
      "...         ...       ...       ...  \n",
      "18407        50        50        15  \n",
      "18538        47        47        19  \n",
      "18454        45        49        17  \n",
      "18466        49        49        16  \n",
      "18498        43        46        18  \n",
      "\n",
      "[18539 rows x 89 columns]\n",
      "Mbappe\n"
     ]
    }
   ],
   "source": [
    "potentials = fifa.sort_values(by = 'Potential', ascending = False)\n",
    "print(potentials)\n",
    "                              \n",
    "print(\"Mbappe\")"
   ]
  }
 ],
 "metadata": {
  "kernelspec": {
   "display_name": "conda_amazonei_mxnet_p36",
   "language": "python",
   "name": "conda_amazonei_mxnet_p36"
  },
  "language_info": {
   "codemirror_mode": {
    "name": "ipython",
    "version": 3
   },
   "file_extension": ".py",
   "mimetype": "text/x-python",
   "name": "python",
   "nbconvert_exporter": "python",
   "pygments_lexer": "ipython3",
   "version": "3.6.13"
  },
  "vscode": {
   "interpreter": {
    "hash": "11838f79d2aaadbfa3a2adfaf35bacdebdb4e8d9b63957ddf298964812544a76"
   }
  }
 },
 "nbformat": 4,
 "nbformat_minor": 4
}
